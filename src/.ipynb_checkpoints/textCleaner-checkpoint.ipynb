{
 "cells": [
  {
   "cell_type": "markdown",
   "id": "86b994ee",
   "metadata": {},
   "source": [
    "# Función que limpia las sinopsis de peliculas del corpus"
   ]
  },
  {
   "cell_type": "markdown",
   "id": "931fe00f",
   "metadata": {},
   "source": [
    "En este fichero se realiza la función solicitada en el apartado 2 del desarrollo de la práctica. Vamos a tokenizar las sinopsis de las películas y eliminar las stop words, los signos de puntuación y las mayúsculas."
   ]
  },
  {
   "cell_type": "code",
   "execution_count": 1,
   "id": "10032407",
   "metadata": {},
   "outputs": [
    {
     "name": "stderr",
     "output_type": "stream",
     "text": [
      "[nltk_data] Downloading package stopwords to\n",
      "[nltk_data]     C:\\Users\\danig\\AppData\\Roaming\\nltk_data...\n",
      "[nltk_data]   Unzipping corpora\\stopwords.zip.\n"
     ]
    }
   ],
   "source": [
    "import nltk\n",
    "nltk.download('stopwords')\n",
    "from nltk.corpus import stopwords\n",
    "from nltk.tokenize import word_tokenize\n",
    "import string"
   ]
  },
  {
   "cell_type": "code",
   "execution_count": null,
   "id": "b47b1a89",
   "metadata": {},
   "outputs": [],
   "source": [
    "def text_cleaner(input_file, output_file):\n",
    "    # Obtener la lista de stopwords en español\n",
    "    stop_words = set(stopwords.words('spanish'))\n",
    "\n",
    "    # Abrir el archivo de entrada y el archivo de salida\n",
    "    with open(input_file, 'r', encoding='utf-8') as file:\n",
    "        lines = file.readlines()\n",
    "\n",
    "    with open(output_file, 'w', encoding='utf-8') as file:\n",
    "        # Ignorar la primera línea (cabecera)\n",
    "        for line in lines[1:]:\n",
    "            # Dividir cada línea en sinopsis y género\n",
    "            synopsis, genre = line.strip().split(',')\n",
    "\n",
    "            # Tokenizar la sinopsis\n",
    "            tokens = word_tokenize(synopsis)\n",
    "\n",
    "            # Eliminar stopwords, mayúsculas y signos de puntuación\n",
    "            tokens = [token.lower() for token in tokens if token.lower() not in stop_words and token not in string.punctuation]\n",
    "\n",
    "            # Unir los tokens procesados en una sola cadena\n",
    "            processed_text = ' '.join(tokens)\n",
    "\n",
    "            # Escribir la sinopsis procesada y el género en el archivo de salida\n",
    "            file.write(processed_text + ',' + genre + '\\n')\n",
    "\n",
    "    print(\"Limpieza completada. El archivo procesado se guardó en:\", output_file)"
   ]
  }
 ],
 "metadata": {
  "kernelspec": {
   "display_name": "Python 3 (ipykernel)",
   "language": "python",
   "name": "python3"
  },
  "language_info": {
   "codemirror_mode": {
    "name": "ipython",
    "version": 3
   },
   "file_extension": ".py",
   "mimetype": "text/x-python",
   "name": "python",
   "nbconvert_exporter": "python",
   "pygments_lexer": "ipython3",
   "version": "3.8.5"
  }
 },
 "nbformat": 4,
 "nbformat_minor": 5
}
