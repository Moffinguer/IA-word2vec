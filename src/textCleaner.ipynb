{
 "cells": [
  {
   "cell_type": "markdown",
   "id": "355ede25",
   "metadata": {},
   "source": [
    "# Función que limpia las sinopsis de peliculas del corpus"
   ]
  },
  {
   "cell_type": "markdown",
   "id": "075d41e6",
   "metadata": {},
   "source": [
    "En este fichero se realiza la función solicitada en el apartado 2 del desarrollo de la práctica. Vamos a tokenizar las sinopsis de las películas y eliminar las stop words, los signos de puntuación y las mayúsculas."
   ]
  },
  {
   "cell_type": "code",
   "execution_count": 2,
   "id": "7eeb36ac",
   "metadata": {},
   "outputs": [
    {
     "name": "stderr",
     "output_type": "stream",
     "text": [
      "[nltk_data] Downloading package stopwords to\n",
      "[nltk_data]     /home/moffinguer/nltk_data...\n",
      "[nltk_data]   Package stopwords is already up-to-date!\n",
      "[nltk_data] Downloading package punkt to /home/moffinguer/nltk_data...\n",
      "[nltk_data]   Package punkt is already up-to-date!\n"
     ]
    }
   ],
   "source": [
    "import nltk\n",
    "nltk.download('stopwords')\n",
    "nltk.download('punkt')\n",
    "from nltk.corpus import stopwords\n",
    "from nltk.tokenize import word_tokenize\n",
    "import string"
   ]
  },
  {
   "cell_type": "code",
   "execution_count": 3,
   "id": "9400832a",
   "metadata": {},
   "outputs": [],
   "source": [
    "# Obtener la lista de stopwords en español\n",
    "stop_words = set(stopwords.words('spanish'))\n",
    "special_chars = [ \"''\", \"...\", \"..\", \".\"]\n",
    "\n",
    "def word_accepted(word):\n",
    "    return word.lower() not in stop_words and ( word not in string.punctuation or word not in special_chars )\n",
    "\n",
    "def text_cleaner(input_file, output_file):\n",
    "    # Abrir el archivo de entrada y el archivo de salida\n",
    "    with open(input_file, 'r', encoding='utf-8') as file:\n",
    "        lines = file.readlines()\n",
    "\n",
    "    with open(output_file, 'w', encoding='utf-8') as file:\n",
    "        \n",
    "        # Escribir la cabecera\n",
    "        file.write(\"sinopsis\\tgenero\\n\")\n",
    "        \n",
    "        # Escribir cada una de las filas en el fichero\n",
    "        for line in lines[1:]:\n",
    "            # Dividir cada línea en sinopsis y género\n",
    "            synopsis, genre = line.strip().split('\\t')\n",
    "\n",
    "            # Tokenizar la sinopsis\n",
    "            tokens = word_tokenize(synopsis)\n",
    "\n",
    "            # Eliminar stopwords, mayúsculas y signos de puntuación\n",
    "            tokens = [token.lower() for token in tokens if word_accepted(token)]\n",
    "\n",
    "            # Unir los tokens procesados en una sola cadena\n",
    "            processed_text = ' '.join(tokens)\n",
    "\n",
    "            # Escribir la sinopsis procesada y el género en el archivo de salida\n",
    "            file.write(processed_text + '\\t' + genre + '\\n')\n",
    "\n",
    "    print(\"Limpieza completada. El archivo procesado se guardó en:\", output_file)"
   ]
  },
  {
   "cell_type": "code",
   "execution_count": 4,
   "id": "4783c835",
   "metadata": {},
   "outputs": [
    {
     "name": "stdout",
     "output_type": "stream",
     "text": [
      "Limpieza completada. El archivo procesado se guardó en: ../data/tokenize_data.txt\n"
     ]
    }
   ],
   "source": [
    "input_file = '../data/data.txt'\n",
    "output_file = '../data/tokenize_data.txt'\n",
    "text_cleaner(input_file, output_file)"
   ]
  },
  {
   "cell_type": "code",
   "execution_count": 8,
   "id": "c0b013d6",
   "metadata": {},
   "outputs": [],
   "source": []
  },
  {
   "cell_type": "code",
   "execution_count": null,
   "id": "050efc57",
   "metadata": {},
   "outputs": [],
   "source": []
  }
 ],
 "metadata": {
  "kernelspec": {
   "display_name": "Python 3 (ipykernel)",
   "language": "python",
   "name": "python3"
  },
  "language_info": {
   "codemirror_mode": {
    "name": "ipython",
    "version": 3
   },
   "file_extension": ".py",
   "mimetype": "text/x-python",
   "name": "python",
   "nbconvert_exporter": "python",
   "pygments_lexer": "ipython3",
   "version": "3.11.3"
  }
 },
 "nbformat": 4,
 "nbformat_minor": 5
}
