{
 "cells": [
  {
   "cell_type": "markdown",
   "id": "4cce2a98",
   "metadata": {},
   "source": []
  },
  {
   "cell_type": "code",
   "execution_count": 29,
   "id": "e578d688",
   "metadata": {},
   "outputs": [],
   "source": [
    "category_alias = {}\n",
    "def categorize(category, inverse = 0):\n",
    "    if not inverse:\n",
    "        if category in category_alias:\n",
    "            return category_alias[category]\n",
    "        if category_alias:\n",
    "            category_alias[category] = max(category_alias.values()) + 1\n",
    "        else:\n",
    "            category_alias[category] = 0\n",
    "        return category_alias[category]\n",
    "    else:\n",
    "        for translation, alias in category_alias.items():\n",
    "            if alias == category:\n",
    "                return translation\n",
    "        return \"None\"\n",
    "\n",
    "def training(input_file, model='CBOW'):  \n",
    "    ## Load a model to train\n",
    "    if model == 'CBOW':\n",
    "        from gensim.models import Word2Vec\n",
    "        #model = Word2Vec(sentences=list(corpus.values()), sg = 0)\n",
    "        #model.save(\"../data/word2vec-cbow.model\")\n",
    "        \n",
    "    elif model == 'SG':\n",
    "        from gensim.models import Word2Vec\n",
    "        #model = Word2Vec(sentences=list(corpus.values()), sg = 1)\n",
    "        #model.save(\"../data/word2vec-sg.model\")\n",
    "    elif model == \"BAYES\":\n",
    "        import pandas as pd \n",
    "        df = pd.read_csv(input_file, delimiter='\\t')\n",
    "       \n",
    "        ## Convertimos cada genero a un valor numérico\n",
    "        df['genero'] = df['genero'].apply( lambda c : categorize(c) )\n",
    "        \n",
    "        #print(f\"{df}\")\n",
    "        \n",
    "        ## Entrenamiento, creando vectores por las palabras\n",
    "        from sklearn.model_selection import train_test_split\n",
    "        films_train, films_test, response_train, response_test = train_test_split( df.sinopsis, df.genero, test_size = .25)\n",
    "        \n",
    "        #print(f\"{films_train}, {response_train}\")\n",
    "        \n",
    "        from sklearn.feature_extraction.text import CountVectorizer\n",
    "        vector = CountVectorizer()\n",
    "        films_train_count = vector.fit_transform(films_train)\n",
    "        \n",
    "        #print(f\"{films_train_count}\")\n",
    "        \n",
    "        from sklearn.naive_bayes import MultinomialNB\n",
    "        model = MultinomialNB()\n",
    "        model.fit(films_train_count, response_train)\n",
    "        \n",
    "        return (model,vector)\n",
    "    else:\n",
    "        print(f\"ERROR unknown model {model}\")"
   ]
  },
  {
   "cell_type": "code",
   "execution_count": 25,
   "id": "f2460b64",
   "metadata": {},
   "outputs": [],
   "source": [
    "def predict(synopsis, model, vector, type_model = 'CBOW'):\n",
    "    if type_model == 'CBOW':\n",
    "        pass\n",
    "    elif type_model == 'SG':\n",
    "        pass\n",
    "    elif type_model == \"BAYES\":\n",
    "        if type(synopsis) is str:\n",
    "            synopsis = [synopsis]\n",
    "        synopsis = vector.transform(synopsis)\n",
    "        return model.predict(synopsis)\n",
    "    else:\n",
    "        print(f\"ERROR unknown model {type_model}\")"
   ]
  },
  {
   "cell_type": "code",
   "execution_count": 30,
   "id": "888fbf30",
   "metadata": {},
   "outputs": [
    {
     "name": "stdout",
     "output_type": "stream",
     "text": [
      "Film has a category of Comedia\n"
     ]
    }
   ],
   "source": [
    "input_file = '../data/stemming_data.txt'\n",
    "(model,vector) = training(input_file, \"BAYES\")\n",
    "\n",
    "predictions = predict('Las Aes Sadai, una poderosa fortaleza de mujeres, parecen dominar la magia por su capacidad de contactar con el Poder Único que se obtiene de la Fuente Verdadera, que hace girar la vital Rueda del Tiempo. La Época de la locura ha llegado por la contaminación de una parte de la fuente dejando un mundo arruinado y desorganizado en su forma de vida', model, vector, 'BAYES')\n",
    "\n",
    "for category in predictions:\n",
    "    print(f\"Film has a category of {categorize(category, 1)}\")"
   ]
  }
 ],
 "metadata": {
  "kernelspec": {
   "display_name": "Python 3 (ipykernel)",
   "language": "python",
   "name": "python3"
  },
  "language_info": {
   "codemirror_mode": {
    "name": "ipython",
    "version": 3
   },
   "file_extension": ".py",
   "mimetype": "text/x-python",
   "name": "python",
   "nbconvert_exporter": "python",
   "pygments_lexer": "ipython3",
   "version": "3.11.3"
  }
 },
 "nbformat": 4,
 "nbformat_minor": 5
}
