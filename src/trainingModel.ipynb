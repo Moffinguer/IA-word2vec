{
 "cells": [
  {
   "cell_type": "markdown",
   "id": "4cce2a98",
   "metadata": {},
   "source": []
  },
  {
   "cell_type": "code",
   "execution_count": 66,
   "id": "e578d688",
   "metadata": {},
   "outputs": [],
   "source": [
    "def training(input_file, model='CBOW'):\n",
    "    # Abrir el archivo de entrada y el archivo de salida\n",
    "    with open(input_file, 'r', encoding='utf-8') as file:\n",
    "        lines = file.readlines()\n",
    "        \n",
    "    corpus = {}\n",
    "    \n",
    "    # Separar temas de palabras clave\n",
    "    for words in lines[1:]:\n",
    "        synopsis, genre = words.strip().split('\\t')\n",
    "        if genre not in corpus:\n",
    "            corpus[genre] = []\n",
    "        corpus[genre] += synopsis.split(\" \")\n",
    "    \n",
    "    ## Load a model to train\n",
    "    if model == 'CBOW':\n",
    "        from gensim.models import Word2Vec\n",
    "        model = Word2Vec(sentences=list(corpus.values()), sg = 0)\n",
    "        #model.save(\"../data/word2vec-cbow.model\")\n",
    "        \n",
    "    elif model == 'SG':\n",
    "        from gensim.models import Word2Vec\n",
    "        model = Word2Vec(sentences=list(corpus.values()), sg = 1)\n",
    "        #model.save(\"../data/word2vec-sg.model\")\n",
    "    elif model == \"BAYES\":\n",
    "        from sklearn import naive_bayes\n",
    "        pass\n",
    "    else:\n",
    "        print(f\"ERROR unknown model {model}\")"
   ]
  },
  {
   "cell_type": "code",
   "execution_count": 67,
   "id": "888fbf30",
   "metadata": {},
   "outputs": [
    {
     "name": "stdout",
     "output_type": "stream",
     "text": [
      "Word2Vec<vocab=872, vector_size=100, alpha=0.025>\n"
     ]
    }
   ],
   "source": [
    "input_file = '../data/stemming_data.txt'\n",
    "training(input_file)"
   ]
  }
 ],
 "metadata": {
  "kernelspec": {
   "display_name": "Python 3 (ipykernel)",
   "language": "python",
   "name": "python3"
  },
  "language_info": {
   "codemirror_mode": {
    "name": "ipython",
    "version": 3
   },
   "file_extension": ".py",
   "mimetype": "text/x-python",
   "name": "python",
   "nbconvert_exporter": "python",
   "pygments_lexer": "ipython3",
   "version": "3.11.3"
  }
 },
 "nbformat": 4,
 "nbformat_minor": 5
}
