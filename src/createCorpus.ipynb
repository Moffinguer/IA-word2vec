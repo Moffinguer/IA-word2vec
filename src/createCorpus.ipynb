{
 "cells": [
  {
   "cell_type": "code",
   "execution_count": 6,
   "id": "1ed2f5ad",
   "metadata": {},
   "outputs": [],
   "source": [
    "def merge_files(synopsis_file, genre_file, output_file):\n",
    "    # Leer las sinopsis del archivo de sinopsis\n",
    "    with open(synopsis_file, 'r', encoding='utf-8') as syn_file:\n",
    "        synopsis_lines = syn_file.readlines()[::2]  # Leer las líneas impares\n",
    "\n",
    "    # Leer los géneros del archivo de géneros\n",
    "    with open(genre_file, 'r', encoding='utf-8') as genre_file:\n",
    "        genre_lines = genre_file.readlines()[::2]  # Leer las líneas impares\n",
    "\n",
    "    # Verificar si el número de líneas coincide\n",
    "    if len(synopsis_lines) != len(genre_lines):\n",
    "        print(\"Error: El número de sinopsis y géneros no coincide.\")\n",
    "        return\n",
    "\n",
    "    # Combinar sinopsis y géneros y guardar en el archivo de salida\n",
    "    with open(output_file, 'w', encoding='utf-8') as output:\n",
    "        output.write(\"sinopsis\\tgenero\\n\")  # Escribir la cabecera\n",
    "\n",
    "        for synopsis, genre in zip(synopsis_lines, genre_lines):\n",
    "            synopsis = synopsis.strip()\n",
    "            genre = genre.strip()\n",
    "\n",
    "            output.write(f\"{synopsis}\\t{genre}\\n\")\n",
    "            \n",
    "    print(\"Corpus creado. El corpus creado se guardó en:\", output_file)"
   ]
  },
  {
   "cell_type": "code",
   "execution_count": 1,
   "id": "e0a826db",
   "metadata": {},
   "outputs": [],
   "source": [
    "## Generamos un dataset\n",
    "import requests\n",
    "import json\n",
    "\n",
    "# función para obtener el campo 'overview', 'genres' y 'original_title' de una película\n",
    "def get_movie_data(movie_id):\n",
    "    url = f'https://api.themoviedb.org/3/movie/{movie_id}'\n",
    "    payload = {'api_key': '8c84889123c57f94a58c3d60912b646b', 'language': 'es-ES'}\n",
    "    response = requests.get(url, params=payload)\n",
    "    data = json.loads(response.text)\n",
    "    overview = data.get('overview', '')\n",
    "    genres = [genre['name'] for genre in data.get('genres', [])]\n",
    "    title = data.get('original_title','')\n",
    "    if overview == '':\n",
    "        return get_movie_data(movie_id + 550)\n",
    "    genre = genres[0]\n",
    "    print(f\"Title: {title} | Genre: {genre} | ID: {movie_id}\")\n",
    "    return overview, genre, title;\n",
    "\n",
    "# bucle para realizar las consultas y guardar los datos en archivos separados\n",
    "for i in range(100, 550):\n",
    "    overview, genre, title = get_movie_data(i)\n",
    "    if overview:\n",
    "        with open('overview.txt', 'a', encoding='utf-8') as f1:\n",
    "            f1.write(overview + '\\n\\n')\n",
    "        with open('genres.txt', 'a', encoding='utf-8') as f2:\n",
    "            f2.write(genre + '\\n\\n')\n",
    "        with open('titles.txt', 'a', encoding='utf-8') as f3:\n",
    "        \t f3.write(title + \"\\n\\n\")"
   ]
  },
  {
   "cell_type": "code",
   "execution_count": 7,
   "id": "dabf4e34",
   "metadata": {},
   "outputs": [
    {
     "name": "stdout",
     "output_type": "stream",
     "text": [
      "Corpus creado. El corpus creado se guardó en: ../data/data.txt\n"
     ]
    }
   ],
   "source": [
    "synopsis_file = '../samples/testing/overview.txt'\n",
    "genre_file = '../samples/testing/genres.txt'\n",
    "output_file = '../data/data.txt'\n",
    "\n",
    "merge_files(synopsis_file, genre_file, output_file)"
   ]
  },
  {
   "cell_type": "code",
   "execution_count": null,
   "id": "527bbd2c",
   "metadata": {},
   "outputs": [],
   "source": []
  }
 ],
 "metadata": {
  "kernelspec": {
   "display_name": "Python 3 (ipykernel)",
   "language": "python",
   "name": "python3"
  },
  "language_info": {
   "codemirror_mode": {
    "name": "ipython",
    "version": 3
   },
   "file_extension": ".py",
   "mimetype": "text/x-python",
   "name": "python",
   "nbconvert_exporter": "python",
   "pygments_lexer": "ipython3",
   "version": "3.11.3"
  }
 },
 "nbformat": 4,
 "nbformat_minor": 5
}
